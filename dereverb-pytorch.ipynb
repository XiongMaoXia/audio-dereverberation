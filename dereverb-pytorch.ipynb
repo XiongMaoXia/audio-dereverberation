{
 "cells": [
  {
   "cell_type": "markdown",
   "metadata": {},
   "source": [
    "## Libraries"
   ]
  },
  {
   "cell_type": "code",
   "execution_count": 1,
   "metadata": {},
   "outputs": [
    {
     "data": {
      "text/html": [
       "        <script type=\"text/javascript\">\n",
       "        window.PlotlyConfig = {MathJaxConfig: 'local'};\n",
       "        if (window.MathJax) {MathJax.Hub.Config({SVG: {font: \"STIX-Web\"}});}\n",
       "        if (typeof require !== 'undefined') {\n",
       "        require.undef(\"plotly\");\n",
       "        requirejs.config({\n",
       "            paths: {\n",
       "                'plotly': ['https://cdn.plot.ly/plotly-latest.min']\n",
       "            }\n",
       "        });\n",
       "        require(['plotly'], function(Plotly) {\n",
       "            window._Plotly = Plotly;\n",
       "        });\n",
       "        }\n",
       "        </script>\n",
       "        "
      ]
     },
     "metadata": {},
     "output_type": "display_data"
    },
    {
     "data": {
      "application/javascript": [
       "IPython.notebook.set_autosave_interval(60000)"
      ]
     },
     "metadata": {},
     "output_type": "display_data"
    },
    {
     "name": "stdout",
     "output_type": "stream",
     "text": [
      "Autosaving every 60 seconds\n"
     ]
    }
   ],
   "source": [
    "from sklearn.preprocessing import StandardScaler\n",
    "import librosa\n",
    "from IPython.display import clear_output\n",
    "import IPython.display as ipd  # To play sound in the notebook\n",
    "import IPython\n",
    "\n",
    "import torch\n",
    "from torch.utils.data import Dataset, DataLoader\n",
    "from torch.utils import data\n",
    "import torch.nn as nn\n",
    "\n",
    "import plotly.graph_objs as go\n",
    "import os\n",
    "import math\n",
    "import numpy as np\n",
    "import pandas as pd\n",
    "#import matplotlib.pyplot as plt\n",
    "\n",
    "# Standard plotly imports\n",
    "#import plotly.plotly as py\n",
    "from plotly.offline import download_plotlyjs, init_notebook_mode, plot, iplot\n",
    "#import plotly.graph_objs as go\n",
    "init_notebook_mode(connected=True)\n",
    "#import plotly.plotly as py\n",
    "\n",
    "# Using cufflinks in offline mode\n",
    "#import cufflinks\n",
    "# cufflinks.go_offline()\n",
    "\n",
    "# Set the global theme for cufflinks\n",
    "#cufflinks.set_config_file(world_readable=True, theme='pearl', offline=True)\n",
    "\n",
    "\n",
    "#from sklearn.model_selection import train_test_split\n",
    "\n",
    "# external .py with functions used for processing\n",
    "#from functionsdef import *\n",
    "\n",
    "# import scipy.io.wavfile as sci_wav  # Open wav files\n",
    "#import scipy\n",
    "#import json, codecs\n",
    "\n",
    "# import warnings  # Warning removal\n",
    "# warnings.filterwarnings('ignore')\n",
    "\n",
    "# automaitc reload modules that have changed\n",
    "%load_ext autoreload\n",
    "%autoreload 2\n",
    "\n",
    "%autosave 60\n",
    "\n",
    "# Enable 2x images for better resolution in retina displays\n",
    "%config InlineBackend.figure_format = 'retina'"
   ]
  },
  {
   "cell_type": "markdown",
   "metadata": {},
   "source": [
    "## Global parameters"
   ]
  },
  {
   "cell_type": "code",
   "execution_count": 2,
   "metadata": {},
   "outputs": [],
   "source": [
    "#Sampling rate\n",
    "sr = int(16e3)\n",
    "#FFT bins\n",
    "n_fft = 512\n",
    "#window size in msec. Note that the final value in samples will be the next power of two\n",
    "\n",
    "w = 20e-3\n",
    "#Window size in samples\n",
    "win_length = int(w*sr)\n",
    "#Next power of two (samples)\n",
    "win_length = 1<<(win_length-1).bit_length()\n",
    "\n",
    "#Hop size in msec. Note that the final value in samples will be the next power of two.\n",
    "h = 10e-3\n",
    "#Hop size in samples\n",
    "hop_length = int(h*sr)\n",
    "#Next power of two\n",
    "hop_length = 1<<(hop_length-1).bit_length()\n",
    "\n",
    "\n",
    "#Number of neighbor frames to form the input feature vectors\n",
    "neighbour_frames = 5\n",
    "#Lenght of the feature vector. This is the rows of the STFT * (rev current frame + rev neighbor frames+anechoic frame)\n",
    "input_length = int( (n_fft/2 + 1) * (neighbour_frames + 1) )\n",
    "output_length = int(n_fft/2 + 1)\n",
    "feature_length = input_length + output_length\n",
    "\n",
    "anechoic_dir = 'anechoic/'\n",
    "reverberant_dir = 'reverberant/'\n",
    "\n"
   ]
  },
  {
   "cell_type": "markdown",
   "metadata": {
    "heading_collapsed": true
   },
   "source": [
    "## Data exploration"
   ]
  },
  {
   "cell_type": "code",
   "execution_count": null,
   "metadata": {
    "hidden": true
   },
   "outputs": [],
   "source": [
    "#Search for .wav files in the given directories and build the filenames list\n",
    "#anechoic_filenames = [_ for _ in os.listdir(anechoic_dir) if _.endswith(\".wav\")]\n",
    "#reverberant_filenames = [_ for _ in os.listdir(reverberant_dir) if _.endswith(\".wav\")]\n",
    "anechoic_filenames = [_ for _ in os.listdir(anechoic_dir) if _.endswith(\".wav\")]\n",
    "reverberant_filenames = [_ for _ in os.listdir(reverberant_dir) if _.endswith(\".wav\")]\n",
    "\n",
    "print(\"There are {} anechoic files\".format(len(anechoic_filenames)))\n",
    "print(\"There are {} reverberant files\".format(len(reverberant_filenames)))\n",
    "print(\"The mapping from reverberant to anechoic has a ratio of\", len(reverberant_filenames)/len(anechoic_filenames))"
   ]
  },
  {
   "cell_type": "code",
   "execution_count": null,
   "metadata": {
    "hidden": true
   },
   "outputs": [],
   "source": [
    "random=np.random.randint(0,len(anechoic_filenames))"
   ]
  },
  {
   "cell_type": "code",
   "execution_count": null,
   "metadata": {
    "hidden": true
   },
   "outputs": [],
   "source": [
    "print(\"Random Anechoic file\")\n",
    "ipd.Audio(anechoic_dir + anechoic_filenames[random])"
   ]
  },
  {
   "cell_type": "code",
   "execution_count": null,
   "metadata": {
    "hidden": true
   },
   "outputs": [],
   "source": [
    "print(\"Random reverberant file\")\n",
    "ipd.Audio(reverberant_dir + reverberant_filenames[random])"
   ]
  },
  {
   "cell_type": "raw",
   "metadata": {
    "hidden": true
   },
   "source": [
    "Get the durations of the anechoic files"
   ]
  },
  {
   "cell_type": "code",
   "execution_count": null,
   "metadata": {
    "hidden": true
   },
   "outputs": [],
   "source": [
    "anecdur = {}\n",
    "for idx, val in enumerate(anechoic_filenames):\n",
    "    clear_output(wait=True)\n",
    "    timeseries,_ = librosa.load(anechoic_dir+val,sr=sr)\n",
    "    dur = librosa.get_duration(timeseries, sr=sr)\n",
    "    data = {'filename': [3, 2, 1, 0], 'col_2': ['a', 'b', 'c', 'd']}\n",
    "    anecdur[val] = dur\n",
    "    print('Current progress', np.round(idx/len(anechoic_filenames)*100, 2),'%')"
   ]
  },
  {
   "cell_type": "code",
   "execution_count": null,
   "metadata": {
    "hidden": true
   },
   "outputs": [],
   "source": [
    "dfanec = pd.DataFrame(list(anecdur.items()), columns=['Filename', 'Duration(seg)'])\n",
    "dfanec.head()"
   ]
  },
  {
   "cell_type": "raw",
   "metadata": {
    "hidden": true
   },
   "source": [
    "Get the durations of the reverberant files"
   ]
  },
  {
   "cell_type": "code",
   "execution_count": null,
   "metadata": {
    "hidden": true
   },
   "outputs": [],
   "source": [
    "revdur = {}\n",
    "for idx, val in enumerate(reverberant_filenames):\n",
    "    clear_output(wait=True)\n",
    "    timeseries,_ = librosa.load(reverberant_dir+val,sr=sr)\n",
    "    dur = librosa.get_duration(timeseries, sr=sr)\n",
    "    revdur[val] = dur\n",
    "    print('Current progress', np.round(idx/len(reverberant_filenames)*100, 2),'%')"
   ]
  },
  {
   "cell_type": "code",
   "execution_count": null,
   "metadata": {
    "hidden": true
   },
   "outputs": [],
   "source": [
    "dfrev = pd.DataFrame(list(revdur.items()), columns=['Filename', 'Duration(seg)'])\n",
    "dfrev.head()"
   ]
  },
  {
   "cell_type": "markdown",
   "metadata": {
    "hidden": true
   },
   "source": [
    "Plot"
   ]
  },
  {
   "cell_type": "code",
   "execution_count": null,
   "metadata": {
    "hidden": true
   },
   "outputs": [],
   "source": [
    "x1 = dfanec['Duration(seg)'].values.tolist()\n",
    "x2 = dfrev['Duration(seg)'].values.tolist()\n",
    "\n",
    "#histnorm='probability',\n",
    "trace1 = go.Histogram(x=x1, name='Anechoic audios', opacity=0.75, xbins=dict(\n",
    "    start=np.min(x1), size=0.2, end=np.max(x1)))\n",
    "\n",
    "trace2 = go.Histogram(x=x2, name='Reverberant audios', opacity=0.75, xbins=dict(\n",
    "    start=np.min(x2), size=0.2, end=np.max(x2)))\n",
    "\n",
    "layout = go.Layout(xaxis=dict(title='Duration(seg)'), title=\"Histogram with frequency count\", barmode='overlay')\n",
    "\n",
    "data = [trace1, trace2]\n",
    "\n",
    "fig = go.Figure(data=data, layout=layout)\n",
    "iplot(fig, filename='histogram-discrete-freq-count')"
   ]
  },
  {
   "cell_type": "code",
   "execution_count": null,
   "metadata": {
    "hidden": true
   },
   "outputs": [],
   "source": [
    "trace3 = go.Histogram(x=x1, cumulative=dict(enabled=True), name='Anechoic audios', opacity=0.75,)\n",
    "trace4 = go.Histogram(x=x2, cumulative=dict(enabled=True), name='Reverberant audios', opacity=0.75)\n",
    "\n",
    "layout = go.Layout(xaxis=dict(title='Duration(seg)'), title=\"Histogram with Cumulative\", barmode='overlay')\n",
    "\n",
    "data = [trace3, trace4]\n",
    "\n",
    "fig = go.Figure(data=data, layout=layout)\n",
    "iplot(fig, filename='histogram-discrete-freq-count')"
   ]
  },
  {
   "cell_type": "code",
   "execution_count": null,
   "metadata": {
    "hidden": true
   },
   "outputs": [],
   "source": []
  },
  {
   "cell_type": "code",
   "execution_count": null,
   "metadata": {
    "hidden": true
   },
   "outputs": [],
   "source": []
  },
  {
   "cell_type": "markdown",
   "metadata": {},
   "source": [
    "## Processing functions"
   ]
  },
  {
   "cell_type": "code",
   "execution_count": 3,
   "metadata": {
    "code_folding": [
     0,
     45,
     71,
     86,
     96,
     115,
     141
    ]
   },
   "outputs": [],
   "source": [
    "def rescale(x, flatten, min, max):\n",
    "    \"\"\"Scales data to the range given by [min, max]. If x is a matix it scales in Axis 0 \n",
    "    (i.e. for 2D arrays running vertically downwards across rows)\n",
    "    http://scikit-learn.org/stable/modules/generated/sklearn.preprocessing.MinMaxScaler.html \n",
    "    x: numpy array.\n",
    "    flatten: boolean. If true, it flattens x to 1D, then reshapes back.\n",
    "    min: float. Minimum number to scale data to. \n",
    "    max: float. Maximum number to scale data to. \n",
    "    \"\"\"\n",
    "\n",
    "    if flatten:\n",
    "        if x.ndim > 1:\n",
    "            r, c = np.shape(x)\n",
    "            x = x.flatten()\n",
    "            # Neccesary because flatten removes dimension and StandardScaler() requires 2dim\n",
    "            x = x.reshape(-1, 1)\n",
    "            scaler = MinMaxScaler(feature_range=(min, max))\n",
    "            xrescaled = scaler.fit_transform(x)\n",
    "            #xrescaled = np.reshape(xrescaled, (r, c))\n",
    "            xrescaled = xrescaled.reshape(r, c)\n",
    "            return xrescaled\n",
    "        else:\n",
    "            # Necessary because StandardScaler() requires 2dim\n",
    "            x = x.reshape(-1, 1)\n",
    "            r, c = np.shape(x)\n",
    "            scaler = MinMaxScaler(feature_range=(min, max))\n",
    "            xrescaled = scaler.fit_transform(x)\n",
    "            xrescaled = xrescaled.reshape(r, )\n",
    "            return xrescaled\n",
    "\n",
    "    else:\n",
    "        if x.ndim > 1:\n",
    "            scaler = MinMaxScaler(feature_range=(min, max))\n",
    "            xrescaled = scaler.fit_transform(x)\n",
    "            return xrescaled\n",
    "        else:\n",
    "            # Necessary because StandardScaler() requires 2dim\n",
    "            x = x.reshape(-1, 1)\n",
    "            r, c = np.shape(x)\n",
    "            scaler = MinMaxScaler(feature_range=(min, max))\n",
    "            xrescaled = scaler.fit_transform(x)\n",
    "            xrescaled = xrescaled.reshape(r, )\n",
    "            return xrescaled\n",
    "\n",
    "\n",
    "def STFTanalysis(x, type_return, dtype='complex64'):\n",
    "    \"\"\"Calculates the Short-Time Fourier transform.\n",
    "    x: numpy array\n",
    "    type_return: String. Type of STFT. 'complex', 'mag' or 'phase'. \n",
    "    dtype: Librosa defaults to complex64 when the complex STFT is calculated. If 'mag' is used as type_return, \n",
    "    dtype will be float32. When using 'complex' or 'phase' dtype will be complex64.\n",
    "    Torch can only convert to tensor dtypes of type double, float, float16, int64, int32, and uint8. \n",
    "\n",
    "    https://librosa.github.io/librosa/generated/librosa.core.stft.html\n",
    "    https://librosa.github.io/librosa/generated/librosa.core.magphase.html\n",
    "    \"\"\"\n",
    "\n",
    "    STFT = librosa.stft(x, n_fft=n_fft, hop_length=hop_length, win_length=win_length, window='hamming',\n",
    "                        center=True, pad_mode='reflect', dtype=dtype)\n",
    "\n",
    "    if type_return == 'complex':\n",
    "        return STFT\n",
    "    elif type_return == 'mag':\n",
    "        magSTFT, _ = librosa.magphase(STFT)\n",
    "        return magSTFT\n",
    "    elif type_return == 'phase':\n",
    "        _, phaseSTFT = librosa.magphase(STFT)\n",
    "        # Phase angle in radians\n",
    "        return np.angle(phaseSTFT)\n",
    "\n",
    "\n",
    "def standardScale(x, Transpose=False):\n",
    "    \"\"\"Standardize features by removing the mean and scaling to unit variance. If x is a \n",
    "    matrix it scales across the first axis (i.e. for 2D arrays running vertically \n",
    "    downwards across rows). For frequency bins, it should be left as default. \n",
    "    Assumes Gaussian distribution. Data ends with a mean of 0 and a standard deviation of 1.\n",
    "    http://scikit-learn.org/stable/modules/generated/sklearn.preprocessing.StandardScaler.html\n",
    "    directory.\n",
    "    x: numpy array\n",
    "    Transpose: Boolean. If True, the input matrix is transposed prior to transformation.\n",
    "    \"\"\"\n",
    "    scaler = StandardScaler().fit(x)\n",
    "    xstandard = scaler.transform(x)\n",
    "    return xstandard\n",
    "\n",
    "\n",
    "def powerdB(x):\n",
    "    \"\"\"Convert a power spectrogram (amplitude squared) to decibel (dB) units\n",
    "    x: spectrogram\n",
    "    https://librosa.github.io/librosa/generated/librosa.core.power_to_db.html\n",
    "    \"\"\"\n",
    "    # x_dB = 10 * log10(x**2) = 20 log10(x)\n",
    "    # return librosa.amplitude_to_db(x)\n",
    "    return librosa.power_to_db(x**2)\n",
    "\n",
    "\n",
    "def crop(reverberant, anec_len):\n",
    "    \"\"\"Crop reverberant audios, in such a way that its length is equal to:\n",
    "    [ length of its corresponding anechoic  + (number_neighbour_frames * win_length) ]. \n",
    "    This is performed in order to ensure the same length of anechoic and reverberant STFT\n",
    "    which will conform the feature pairs to feed the NN\n",
    "    Note that IF the filenames of the anechoic and reverberant are not related, the function\n",
    "    will not work. The files used here have the following syntax to ensure an easy association of\n",
    "    the anechoic file that gave birth to the reverberant version:\n",
    "    anechoic:       ABCD_##.wav\n",
    "    reverberant:    ABCD_##-rir-#.#-r#.wav \n",
    "    The first 7 characters always correlate thus allowing to map the reverberant with its corresponding\n",
    "    anechoic file.\n",
    "    reverberant: STFT matrix.\n",
    "    anec_len: Length of the anechoic audio file that corresponds to the reverberant audio file\n",
    "    \"\"\"\n",
    "    reverberant_cropped = reverberant[:, 0: anec_len + neighbour_frames]\n",
    "    return reverberant_cropped\n",
    "\n",
    "\n",
    "def featureMatrix(reverberant, anec_col):\n",
    "    '''\n",
    "    Matrix of the feature vectors (frame + neighbour_frames). \n",
    "    reverberant_col_n + reverberant_col_n+1 + ... + reverberant_col_n+5\n",
    "    For the case of STFT with a size of 512, the resulting matrix has a shape of [ N x 1542] \n",
    "    where N depends on the duration of the audiofile. In summary, each row now is the input vector to the NN.\n",
    "\n",
    "    '''\n",
    "\n",
    "    for k in range(anec_col):\n",
    "        fvector = reverberant[:, k:k+1+neighbour_frames]\n",
    "        fvector = np.reshape(fvector, (1, -1), order='F')\n",
    "        if k == 0:\n",
    "            fmatrix = fvector\n",
    "            # print(k)\n",
    "            # print(fmatrix.shape)\n",
    "            # print(fmatrix)\n",
    "        else:\n",
    "            fmatrix = np.concatenate((fmatrix, fvector), axis=0)\n",
    "            # print(k)\n",
    "            # print(fmatrix.shape)\n",
    "            # print(fmatrix)\n",
    "\n",
    "    return fmatrix\n",
    "\n",
    "\n",
    "def random_idx():\n",
    "    # Function to get random indices for split. For future use\n",
    "    # import random\n",
    "    # from math import floor\n",
    "\n",
    "    # def train_valid_split(dataset, test_size = 0.25, shuffle = False, random_seed = 0):\n",
    "    #     \"\"\" Return a list of splitted indices from a DataSet.\n",
    "    #     Indices can be used with DataLoader to build a train and validation set.\n",
    "\n",
    "    #     Arguments:\n",
    "    #         A Dataset\n",
    "    #         A test_size, as a float between 0 and 1 (percentage split) or as an int (fixed number split)\n",
    "    #         Shuffling True or False\n",
    "    #         Random seed\n",
    "    #     \"\"\"\n",
    "    #     length = dataset.__len__()\n",
    "    #     indices = list(range(1,length))\n",
    "\n",
    "    #     if shuffle == True:\n",
    "    #         random.seed(random_seed)\n",
    "    #         random.shuffle(indices)\n",
    "\n",
    "    #     if type(test_size) is float:\n",
    "    #         split = floor(test_size * length)\n",
    "    #     elif type(test_size) is int:\n",
    "    #         split = test_size\n",
    "    #     else:\n",
    "    #         raise ValueError('%s should be an int or a float' % str)\n",
    "    # return indices[split:], indices[:split]\n",
    "    return"
   ]
  },
  {
   "cell_type": "markdown",
   "metadata": {},
   "source": [
    "## Model"
   ]
  },
  {
   "cell_type": "code",
   "execution_count": 4,
   "metadata": {
    "code_folding": []
   },
   "outputs": [],
   "source": [
    "#From https://pytorch.org/tutorials/beginner/data_loading_tutorial.html\n",
    "\n",
    "class Dereverbation(Dataset):\n",
    "    \n",
    "    def __init__(self, anecdir, revdir):\n",
    "        \"\"\"\n",
    "        Args:\n",
    "            anecdir (string): Path to the reverberant wav file. Tipically = 'anechoic/'\n",
    "            revdir (string): Path to the reverberant wav file. Tipically = 'reverberant/'\n",
    "        \n",
    "        The class makes use of the fact that the filenames of the reverberant and anechoic are related following \n",
    "        the rule that the ith anechoic has a reverberant file with the same name plus other information. E.g.:\n",
    "        CA01_01.wav\n",
    "        CA01_01-rir-0.3-r1.wav\n",
    "        So by getting the first 7 characters + 'wav' from the reverberant file, we can get its corresponding \n",
    "        anechoic version\n",
    "        \"\"\"\n",
    "        self.anecdir = anecdir\n",
    "        self.revdir = revdir\n",
    "        #self.anechoic_filenames = [_ for _ in os.listdir(anecdir) if _.endswith(\".wav\")]\n",
    "        self.reverberant_filenames = [_ for _ in os.listdir(revdir) if _.endswith(\".wav\")]\n",
    "        \n",
    "        #Dicttionary [reverberant:Anechoic] = [input:output]\n",
    "        self.dictfiles = { i : i[0:7]+'.wav' for i in self.reverberant_filenames }\n",
    "        \n",
    "        #the same with for loop\n",
    "        #for j in range(len(self.reverberant_filenames)):\n",
    "            #self.dictfiles[self.reverberant_filenames[j]] = self.reverberant_filenames[j][0:7] + '.wav'\n",
    "    \n",
    "    def __len__(self):\n",
    "        return len(self.dictfiles)\n",
    "\n",
    "    def __getitem__(self, idx):\n",
    "        \"\"\"\n",
    "        Returns a tuple of 3 elements:\n",
    "        1. A dict with input/output ('reverberant', 'anechoic'). \n",
    "        Each matrix row from 'reverberant' is the input.\n",
    "        Each matrix row from 'anechoic' is the output.\n",
    "        2. Reverberant filename (rev_fnm).\n",
    "        3. Anechoic filename (anec_fnm).\n",
    "        \n",
    "        e.g. [index][0] --> dict\n",
    "        e.g. [index][0]['reverberant'] --> input\n",
    "        e.g. [index][0][1] --> reverberant filename\n",
    "        \"\"\"\n",
    "        reverberant_fnm = self.reverberant_filenames[idx]\n",
    "        anechoic_fnm = self.dictfiles[self.reverberant_filenames[idx]]\n",
    "        \n",
    "        \n",
    "        #Feature processing\n",
    "        anechoic, _ = librosa.load(self.anecdir + anechoic_fnm, sr=sr)\n",
    "        anechoic = np.trim_zeros(anechoic, 'f')\n",
    "        anechoic = STFTanalysis(anechoic,'mag')\n",
    "        anechoic = standardScale(anechoic)\n",
    "        anechoic = powerdB(anechoic)\n",
    "        anec_rows, anec_col = np.shape(anechoic)\n",
    "        anechoic = np.transpose(anechoic)\n",
    "        \n",
    "        reverberant, _ = librosa.load(self.revdir + reverberant_fnm, sr=sr)\n",
    "        reverberant = np.trim_zeros(reverberant, 'f')\n",
    "        reverberant = STFTanalysis(reverberant,'mag')\n",
    "        reverberant = standardScale(reverberant)\n",
    "        reverberant = powerdB(reverberant)\n",
    "        reverberant = crop(reverberant, anec_col)\n",
    "        reverberant = featureMatrix(reverberant, anec_col)\n",
    "        \n",
    "        sample = {'reverberant': torch.from_numpy(reverberant), 'anechoic': torch.from_numpy(anechoic)} \n",
    "        return sample, reverberant_fnm, anechoic_fnm\n",
    "\n",
    "    "
   ]
  },
  {
   "cell_type": "code",
   "execution_count": 5,
   "metadata": {},
   "outputs": [],
   "source": [
    "#Dataset class instance\n",
    "transformed_dataset = Dereverbation('anechoic/','reverberant/')"
   ]
  },
  {
   "cell_type": "code",
   "execution_count": 7,
   "metadata": {},
   "outputs": [],
   "source": [
    "#Create split for train/eval.\n",
    "\n",
    "eval_perc = 0.2\n",
    "n = len(transformed_dataset)  # number of elements in the dataset\n",
    "n_eval = int(n * eval_perc)  # number of eval elements\n",
    "n_train = n - n_eval   #number of training elements\n",
    "idx = list(range(n))  # indices to all elements\n",
    "np.random.shuffle(idx)  # in-place shuffle the indices to facilitate random splitting\n",
    "train_idx = idx[:n_train] #train index numbers\n",
    "eval_idx = idx[n_train:]  #eval index numbers\n",
    "#len(train_idx)\n",
    "\n",
    "train_set = data.Subset(transformed_dataset, train_idx)\n",
    "eval_set = data.Subset(transformed_dataset, eval_idx)\n",
    "#Equivalent\n",
    "#train_set, eval_set = data.random_split(transformed_dataset, (n_train, n_eval))"
   ]
  },
  {
   "cell_type": "code",
   "execution_count": 203,
   "metadata": {},
   "outputs": [
    {
     "name": "stdout",
     "output_type": "stream",
     "text": [
      "0 input: torch.Size([127, 1542]) FG37_03-rir-0.9-r2.wav  /  output: torch.Size([127, 257]) FG37_03.wav\n",
      "1 input: torch.Size([156, 1542]) MH44_09-rir-0.6-r2.wav  /  output: torch.Size([156, 257]) MH44_09.wav\n",
      "2 input: torch.Size([163, 1542]) FL69_05-rir-0.9-r2.wav  /  output: torch.Size([163, 257]) FL69_05.wav\n",
      "3 input: torch.Size([136, 1542]) MC14_05-rir-0.9-r2.wav  /  output: torch.Size([136, 257]) MC14_05.wav\n"
     ]
    }
   ],
   "source": [
    "#example of train files\n",
    "for i in range(n_train):\n",
    "    sample = train_set[i]\n",
    "    print(i, 'input:', sample[0]['reverberant'].shape, sample[1], ' / ', \n",
    "          'output:', sample[0]['anechoic'].shape, sample[2])\n",
    "    if i == 3:\n",
    "        break"
   ]
  },
  {
   "cell_type": "code",
   "execution_count": 261,
   "metadata": {},
   "outputs": [],
   "source": [
    "#NN params\n",
    "input_size = 1542\n",
    "hidden_size = 500\n",
    "num_classes = 257\n",
    "num_epochs = 1\n",
    "batch_size = 1 #fix because it is only working when equal to 1\n",
    "learning_rate = 0.001\n",
    "num_workers = 4\n",
    "\n",
    "\n",
    "dataloader_train = DataLoader(dataset=train_set, batch_size=batch_size, shuffle=True)\n",
    "dataloader_eval = DataLoader(dataset=eval_set, batch_size=batch_size, shuffle=True)"
   ]
  },
  {
   "cell_type": "code",
   "execution_count": 262,
   "metadata": {
    "collapsed": true
   },
   "outputs": [
    {
     "name": "stdout",
     "output_type": "stream",
     "text": [
      "0 input: torch.Size([1, 132, 1542]) ('FB11_08-rir-0.9-r2.wav',)  >  output: torch.Size([1, 132, 257]) ('FB11_08.wav',)\n",
      "1 input: torch.Size([1, 121, 1542]) ('MJ60_02-rir-0.6-r1.wav',)  >  output: torch.Size([1, 121, 257]) ('MJ60_02.wav',)\n",
      "2 input: torch.Size([1, 132, 1542]) ('FF36_02-rir-0.9-r2.wav',)  >  output: torch.Size([1, 132, 257]) ('FF36_02.wav',)\n",
      "3 input: torch.Size([1, 150, 1542]) ('FE27_09-rir-0.9-r1.wav',)  >  output: torch.Size([1, 150, 257]) ('FE27_09.wav',)\n",
      "torch.Size([150, 1542])\n"
     ]
    }
   ],
   "source": [
    "#e.g.\n",
    "for index, (dict, revfnm, anecfnm) in enumerate(dataloader_eval):\n",
    "    \n",
    "    print(index, 'input:', dict['reverberant'].size(), revfnm, ' > ', \n",
    "          'output:', dict['anechoic'].size(), anecfnm)\n",
    "    if index == 3:\n",
    "        aa = dict['reverberant'].view(-1, input_size)\n",
    "        print(aa.shape)\n",
    "        break"
   ]
  },
  {
   "cell_type": "code",
   "execution_count": 263,
   "metadata": {},
   "outputs": [],
   "source": [
    "# Device configuration\n",
    "device = torch.device('cuda' if torch.cuda.is_available() else 'cpu')\n",
    "\n",
    "# Fully connected neural network with one hidden layer\n",
    "class NeuralNet(nn.Module):\n",
    "    def __init__(self, input_size, hidden_size, num_classes):\n",
    "        super(NeuralNet, self).__init__()\n",
    "        self.fc1 = nn.Linear(input_size, hidden_size) \n",
    "        self.relu = nn.ReLU()\n",
    "        self.fc2 = nn.Linear(hidden_size, num_classes)  \n",
    "    \n",
    "    def forward(self, x):\n",
    "        out = self.fc1(x)\n",
    "        out = self.relu(out)\n",
    "        out = self.fc2(out)\n",
    "        return out\n",
    "\n",
    "model = NeuralNet(input_size, hidden_size, num_classes).to(device)\n",
    "\n",
    "# Loss and optimizer\n",
    "criterion = nn.MSELoss()\n",
    "optimizer = torch.optim.Adam(model.parameters(), lr=learning_rate)  "
   ]
  },
  {
   "cell_type": "code",
   "execution_count": 265,
   "metadata": {
    "collapsed": true
   },
   "outputs": [
    {
     "name": "stdout",
     "output_type": "stream",
     "text": [
      "Epoch [1/1], Step [100/6932], Loss: 3.3170\n",
      "Epoch [1/1], Step [200/6932], Loss: 6.1051\n",
      "Epoch [1/1], Step [300/6932], Loss: 8.9047\n",
      "Epoch [1/1], Step [400/6932], Loss: 4.6612\n",
      "Epoch [1/1], Step [500/6932], Loss: 6.0712\n",
      "Epoch [1/1], Step [600/6932], Loss: 3.1502\n",
      "Epoch [1/1], Step [700/6932], Loss: 2.2776\n",
      "Epoch [1/1], Step [800/6932], Loss: 5.1448\n",
      "Epoch [1/1], Step [900/6932], Loss: 5.2633\n",
      "Epoch [1/1], Step [1000/6932], Loss: 3.9897\n",
      "Epoch [1/1], Step [1100/6932], Loss: 4.1940\n",
      "Epoch [1/1], Step [1200/6932], Loss: 5.5710\n",
      "Epoch [1/1], Step [1300/6932], Loss: 4.0104\n",
      "Epoch [1/1], Step [1400/6932], Loss: 1.8064\n",
      "Epoch [1/1], Step [1500/6932], Loss: 2.6658\n",
      "Epoch [1/1], Step [1600/6932], Loss: 5.9620\n",
      "Epoch [1/1], Step [1700/6932], Loss: 3.2618\n",
      "Epoch [1/1], Step [1800/6932], Loss: 4.8116\n",
      "Epoch [1/1], Step [1900/6932], Loss: 15.2244\n",
      "Epoch [1/1], Step [2000/6932], Loss: 3.7350\n",
      "Epoch [1/1], Step [2100/6932], Loss: 7.9603\n",
      "Epoch [1/1], Step [2200/6932], Loss: 5.2371\n",
      "Epoch [1/1], Step [2300/6932], Loss: 2.6802\n",
      "Epoch [1/1], Step [2400/6932], Loss: 5.9207\n",
      "Epoch [1/1], Step [2500/6932], Loss: 3.7395\n",
      "Epoch [1/1], Step [2600/6932], Loss: 5.7690\n",
      "Epoch [1/1], Step [2700/6932], Loss: 5.8449\n",
      "Epoch [1/1], Step [2800/6932], Loss: 4.7863\n",
      "Epoch [1/1], Step [2900/6932], Loss: 2.7647\n",
      "Epoch [1/1], Step [3000/6932], Loss: 3.1373\n",
      "Epoch [1/1], Step [3100/6932], Loss: 4.9061\n",
      "Epoch [1/1], Step [3200/6932], Loss: 5.4369\n",
      "Epoch [1/1], Step [3300/6932], Loss: 2.5124\n",
      "Epoch [1/1], Step [3400/6932], Loss: 3.6593\n",
      "Epoch [1/1], Step [3500/6932], Loss: 2.6248\n",
      "Epoch [1/1], Step [3600/6932], Loss: 8.2616\n",
      "Epoch [1/1], Step [3700/6932], Loss: 3.0045\n",
      "Epoch [1/1], Step [3800/6932], Loss: 2.5080\n",
      "Epoch [1/1], Step [3900/6932], Loss: 10.3903\n",
      "Epoch [1/1], Step [4000/6932], Loss: 6.3508\n",
      "Epoch [1/1], Step [4100/6932], Loss: 3.2752\n",
      "Epoch [1/1], Step [4200/6932], Loss: 8.0664\n",
      "Epoch [1/1], Step [4300/6932], Loss: 8.4725\n",
      "Epoch [1/1], Step [4400/6932], Loss: 3.2706\n",
      "Epoch [1/1], Step [4500/6932], Loss: 3.8037\n",
      "Epoch [1/1], Step [4600/6932], Loss: 4.0431\n",
      "Epoch [1/1], Step [4700/6932], Loss: 2.5948\n",
      "Epoch [1/1], Step [4800/6932], Loss: 8.3050\n",
      "Epoch [1/1], Step [4900/6932], Loss: 8.5277\n",
      "Epoch [1/1], Step [5000/6932], Loss: 3.5871\n",
      "Epoch [1/1], Step [5100/6932], Loss: 3.7182\n",
      "Epoch [1/1], Step [5200/6932], Loss: 5.2306\n",
      "Epoch [1/1], Step [5300/6932], Loss: 4.5105\n",
      "Epoch [1/1], Step [5400/6932], Loss: 5.1688\n",
      "Epoch [1/1], Step [5500/6932], Loss: 2.8702\n",
      "Epoch [1/1], Step [5600/6932], Loss: 4.3082\n",
      "Epoch [1/1], Step [5700/6932], Loss: 5.7980\n",
      "Epoch [1/1], Step [5800/6932], Loss: 4.6034\n",
      "Epoch [1/1], Step [5900/6932], Loss: 4.7474\n",
      "Epoch [1/1], Step [6000/6932], Loss: 3.3623\n",
      "Epoch [1/1], Step [6100/6932], Loss: 7.4004\n",
      "Epoch [1/1], Step [6200/6932], Loss: 2.7436\n",
      "Epoch [1/1], Step [6300/6932], Loss: 5.2611\n",
      "Epoch [1/1], Step [6400/6932], Loss: 4.9071\n",
      "Epoch [1/1], Step [6500/6932], Loss: 4.7433\n",
      "Epoch [1/1], Step [6600/6932], Loss: 5.3590\n",
      "Epoch [1/1], Step [6700/6932], Loss: 5.1595\n",
      "Epoch [1/1], Step [6800/6932], Loss: 4.6990\n",
      "Epoch [1/1], Step [6900/6932], Loss: 11.8106\n"
     ]
    }
   ],
   "source": [
    "\n",
    "# Train the model\n",
    "total_step = len(dataloader_train)\n",
    "for epoch in range(num_epochs):\n",
    "    for index, (dict, revfnm, anecfnm) in enumerate(dataloader_train):\n",
    "        #cold be anechoic, as they have the same rows\n",
    "        #print(row)\n",
    "        for row in range(dict['reverberant'].size()[1]):\n",
    "            #Move tensors to the configured device\n",
    "            #print(dict['reverberant'][:,row,:].shape)\n",
    "            #print(dict['anechoic'][:,row,:].shape)\n",
    "            images = dict['reverberant'][:,row,:].to(device)\n",
    "            labels = dict['anechoic'][:,row,:].to(device)\n",
    "\n",
    "            # Forward pass\n",
    "            outputs = model(images)\n",
    "            loss = criterion(outputs, labels)\n",
    "\n",
    "        # Backward and optimize\n",
    "        optimizer.zero_grad()\n",
    "        loss.backward()\n",
    "        optimizer.step()\n",
    "        \n",
    "        if (index+1) % 100 == 0:\n",
    "            print ('Epoch [{}/{}], Step [{}/{}], Loss: {:.4f}'.format(epoch+1, num_epochs, index+1, total_step, \n",
    "                                                                      loss.item()))"
   ]
  },
  {
   "cell_type": "code",
   "execution_count": 11,
   "metadata": {
    "code_folding": [],
    "collapsed": true
   },
   "outputs": [
    {
     "ename": "NameError",
     "evalue": "name 'training_generator' is not defined",
     "output_type": "error",
     "traceback": [
      "\u001b[0;31m---------------------------------------------------------------------------\u001b[0m",
      "\u001b[0;31mNameError\u001b[0m                                 Traceback (most recent call last)",
      "\u001b[0;32m<ipython-input-11-b34bca4dc308>\u001b[0m in \u001b[0;36m<module>\u001b[0;34m\u001b[0m\n\u001b[1;32m      2\u001b[0m \u001b[0;32mfor\u001b[0m \u001b[0mepoch\u001b[0m \u001b[0;32min\u001b[0m \u001b[0mrange\u001b[0m\u001b[0;34m(\u001b[0m\u001b[0mmax_epochs\u001b[0m\u001b[0;34m)\u001b[0m\u001b[0;34m:\u001b[0m\u001b[0;34m\u001b[0m\u001b[0;34m\u001b[0m\u001b[0m\n\u001b[1;32m      3\u001b[0m     \u001b[0;31m# Training\u001b[0m\u001b[0;34m\u001b[0m\u001b[0;34m\u001b[0m\u001b[0;34m\u001b[0m\u001b[0m\n\u001b[0;32m----> 4\u001b[0;31m     \u001b[0;32mfor\u001b[0m \u001b[0mlocal_batch\u001b[0m\u001b[0;34m,\u001b[0m \u001b[0mlocal_labels\u001b[0m \u001b[0;32min\u001b[0m \u001b[0mtraining_generator\u001b[0m\u001b[0;34m:\u001b[0m\u001b[0;34m\u001b[0m\u001b[0;34m\u001b[0m\u001b[0m\n\u001b[0m\u001b[1;32m      5\u001b[0m         \u001b[0;31m# Transfer to GPU\u001b[0m\u001b[0;34m\u001b[0m\u001b[0;34m\u001b[0m\u001b[0;34m\u001b[0m\u001b[0m\n\u001b[1;32m      6\u001b[0m         \u001b[0mlocal_batch\u001b[0m\u001b[0;34m,\u001b[0m \u001b[0mlocal_labels\u001b[0m \u001b[0;34m=\u001b[0m \u001b[0mlocal_batch\u001b[0m\u001b[0;34m.\u001b[0m\u001b[0mto\u001b[0m\u001b[0;34m(\u001b[0m\u001b[0mdevice\u001b[0m\u001b[0;34m)\u001b[0m\u001b[0;34m,\u001b[0m \u001b[0mlocal_labels\u001b[0m\u001b[0;34m.\u001b[0m\u001b[0mto\u001b[0m\u001b[0;34m(\u001b[0m\u001b[0mdevice\u001b[0m\u001b[0;34m)\u001b[0m\u001b[0;34m\u001b[0m\u001b[0;34m\u001b[0m\u001b[0m\n",
      "\u001b[0;31mNameError\u001b[0m: name 'training_generator' is not defined"
     ]
    }
   ],
   "source": [
    "# Loop over epochs\n",
    "for epoch in range(max_epochs):\n",
    "    # Training\n",
    "    for local_batch, local_labels in training_generator:\n",
    "        # Transfer to GPU\n",
    "        local_batch, local_labels = local_batch.to(device), local_labels.to(device)\n",
    "\n",
    "        # Model computations\n",
    "        [...]\n",
    "\n",
    "    # Validation\n",
    "    with torch.set_grad_enabled(False):\n",
    "        for local_batch, local_labels in validation_generator:\n",
    "            # Transfer to GPU\n",
    "            local_batch, local_labels = local_batch.to(device), local_labels.to(device)\n",
    "\n",
    "            # Model computations\n",
    "            [...]\n",
    "\n",
    "\n"
   ]
  },
  {
   "cell_type": "code",
   "execution_count": null,
   "metadata": {},
   "outputs": [],
   "source": []
  }
 ],
 "metadata": {
  "hide_input": false,
  "kernelspec": {
   "display_name": "Python 3",
   "language": "python",
   "name": "python3"
  },
  "language_info": {
   "codemirror_mode": {
    "name": "ipython",
    "version": 3
   },
   "file_extension": ".py",
   "mimetype": "text/x-python",
   "name": "python",
   "nbconvert_exporter": "python",
   "pygments_lexer": "ipython3",
   "version": "3.6.8"
  },
  "toc": {
   "base_numbering": 1,
   "nav_menu": {},
   "number_sections": true,
   "sideBar": true,
   "skip_h1_title": false,
   "title_cell": "Table of Contents",
   "title_sidebar": "Contents",
   "toc_cell": false,
   "toc_position": {},
   "toc_section_display": true,
   "toc_window_display": false
  },
  "varInspector": {
   "cols": {
    "lenName": 16,
    "lenType": 16,
    "lenVar": 40
   },
   "kernels_config": {
    "python": {
     "delete_cmd_postfix": "",
     "delete_cmd_prefix": "del ",
     "library": "var_list.py",
     "varRefreshCmd": "print(var_dic_list())"
    },
    "r": {
     "delete_cmd_postfix": ") ",
     "delete_cmd_prefix": "rm(",
     "library": "var_list.r",
     "varRefreshCmd": "cat(var_dic_list()) "
    }
   },
   "types_to_exclude": [
    "module",
    "function",
    "builtin_function_or_method",
    "instance",
    "_Feature"
   ],
   "window_display": false
  }
 },
 "nbformat": 4,
 "nbformat_minor": 2
}
